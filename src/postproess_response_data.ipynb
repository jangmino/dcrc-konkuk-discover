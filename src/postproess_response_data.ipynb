{
 "cells": [
  {
   "cell_type": "markdown",
   "metadata": {},
   "source": [
    "# Postprocess the response data from the OpenAI API\n",
    "\n",
    "input: `respose_file_path`\n",
    "output: `annotated_file_path`\n",
    "\n",
    "Description\n",
    "- make the annotated dataset from the response from the OpenAI API."
   ]
  },
  {
   "cell_type": "code",
   "execution_count": 1,
   "metadata": {},
   "outputs": [],
   "source": [
    "import pandas as pd\n",
    "from datasets import Features, ClassLabel, Dataset, DatasetDict\n",
    "import json\n",
    "import re"
   ]
  },
  {
   "cell_type": "code",
   "execution_count": 2,
   "metadata": {},
   "outputs": [],
   "source": [
    "respose_file_path = r'../local_data/api_responses_for_annotated_dataset.jsonl'"
   ]
  },
  {
   "cell_type": "code",
   "execution_count": 3,
   "metadata": {},
   "outputs": [],
   "source": [
    "in_fname =  respose_file_path\n",
    "datas = []\n",
    "request_ids = []\n",
    "# results = {}\n",
    "with open(in_fname, 'r') as f:\n",
    "    for i, line in enumerate(f):\n",
    "        data = json.loads(line)\n",
    "        if isinstance(data[1] , dict):\n",
    "            # results[i] = data\n",
    "            datas.append(data[1]['choices'][0]['message']['content'])\n",
    "            request_ids.append(data[2]['request_id'])"
   ]
  },
  {
   "cell_type": "code",
   "execution_count": 6,
   "metadata": {},
   "outputs": [],
   "source": [
    "df = pd.DataFrame({'request_id': request_ids, 'response': datas})\n",
    "df['response'] = df['response'].str.split('\\n')\n",
    "df.sort_values(by='request_id', inplace=True)\n",
    "\n",
    "# response 컬럼을 펼쳐서 새로운 DataFrame 생성\n",
    "exploded_df = df.explode('response').reset_index(drop=True)\n",
    "\n",
    "# \"->\" 가 포함된 response만 남기기 (한건 제외됨)\n",
    "exploded_df = exploded_df[exploded_df['response'].str.contains('->')]"
   ]
  },
  {
   "cell_type": "code",
   "execution_count": 7,
   "metadata": {},
   "outputs": [],
   "source": [
    "# 문자열을 분리하는 함수 정의\n",
    "def split_response(response):\n",
    "    # 제목과 나머지를 분리\n",
    "    title, rest = response.split(\"->\")\n",
    "    title = title.strip()\n",
    "    \n",
    "    # 카테고리와 키워드를 분리\n",
    "    category, *keywords = rest.split(\":\")\n",
    "    category = category.strip()\n",
    "    keywords = [keyword.strip() for keyword in keywords]\n",
    "    \n",
    "    return title, category, keywords\n"
   ]
  },
  {
   "cell_type": "code",
   "execution_count": 8,
   "metadata": {},
   "outputs": [],
   "source": [
    "# DataFrame에 새로운 컬럼 추가\n",
    "exploded_df[['title', 'category', 'keywords']] = exploded_df['response'].apply(lambda x: pd.Series(split_response(x)))\n"
   ]
  },
  {
   "cell_type": "code",
   "execution_count": 9,
   "metadata": {},
   "outputs": [],
   "source": [
    "# 필요 없는 response 컬럼 제거\n",
    "exploded_df = exploded_df.drop(columns=['response'])\n",
    "\n",
    "# request_id를 'tester'와 'trial_idx', 'sub_idx'로 분리\n",
    "exploded_df[['tester', 'trial_idx', 'sub_idx']] = exploded_df['request_id'].str.split(':', expand=True)\n",
    "\n",
    "# trial_idx를 숫자형으로 변환\n",
    "exploded_df['trial_idx'] = exploded_df['trial_idx'].astype(float).astype(int)\n",
    "\n",
    "# sub_idx를 숫자형으로 변환\n",
    "exploded_df['sub_idx'] = exploded_df['sub_idx'].astype(int)\n",
    "\n",
    "# 필요 없는 request_id 컬럼 제거\n",
    "exploded_df = exploded_df.drop(columns=['request_id'])\n"
   ]
  },
  {
   "cell_type": "code",
   "execution_count": 10,
   "metadata": {},
   "outputs": [],
   "source": [
    "exploded_df.to_csv('../local_data/annotated_dataset.csv', index=False)"
   ]
  }
 ],
 "metadata": {
  "kernelspec": {
   "display_name": "metal",
   "language": "python",
   "name": "python3"
  },
  "language_info": {
   "codemirror_mode": {
    "name": "ipython",
    "version": 3
   },
   "file_extension": ".py",
   "mimetype": "text/x-python",
   "name": "python",
   "nbconvert_exporter": "python",
   "pygments_lexer": "ipython3",
   "version": "3.10.14"
  }
 },
 "nbformat": 4,
 "nbformat_minor": 2
}
